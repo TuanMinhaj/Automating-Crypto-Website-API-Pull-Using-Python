{
 "cells": [
  {
   "cell_type": "code",
   "execution_count": null,
   "metadata": {},
   "outputs": [],
   "source": [
    "#import nessary libraries\n",
    "\n",
    "from requests import Request,Session\n",
    "from requests.exceptions import ConnectionError,Timeout,TooManyRedirects\n",
    "import json\n",
    "import pandas as pd"
   ]
  },
  {
   "cell_type": "code",
   "execution_count": null,
   "metadata": {},
   "outputs": [],
   "source": [
    "#requesting all the data from the crypto website via API\n",
    "\n",
    "url = 'https://pro-api.coinmarketcap.com/v1/cryptocurrency/listings/latest'\n",
    "parameters = {\n",
    "  'start':'1',\n",
    "  'limit':'5000',\n",
    "  'convert':'USD'\n",
    "}\n",
    "headers = {\n",
    "  'Accepts': 'application/json',\n",
    "  'X-CMC_PRO_API_KEY': '54ff4889-f067-439f-862d-2c0b05fbdae2',\n",
    "}\n",
    "\n",
    "session = Session()\n",
    "session.headers.update(headers)\n",
    "\n",
    "try:\n",
    "  response = session.get(url, params=parameters)\n",
    "  data = json.loads(response.text)\n",
    "  print(data)\n",
    "except (ConnectionError, Timeout, TooManyRedirects) as e:\n",
    "  print(e)\n"
   ]
  },
  {
   "cell_type": "code",
   "execution_count": null,
   "metadata": {},
   "outputs": [],
   "source": [
    "#Display all the columns in the dataframe\n",
    "\n",
    "pd.set_option('display.max_columns',None)"
   ]
  },
  {
   "cell_type": "code",
   "execution_count": null,
   "metadata": {},
   "outputs": [],
   "source": [
    "#Normalizing the dataframe\n",
    "\n",
    "df=pd.json_normalize(data['data'])\n",
    "df['timestamp']=pd.Timestamp.now()"
   ]
  },
  {
   "cell_type": "code",
   "execution_count": null,
   "metadata": {},
   "outputs": [],
   "source": [
    "df.head()"
   ]
  },
  {
   "cell_type": "code",
   "execution_count": null,
   "metadata": {},
   "outputs": [],
   "source": [
    "#Automating the data \n",
    "import os\n",
    "\n",
    "def api_runner():\n",
    "\n",
    "    global df\n",
    "    url = 'https://pro-api.coinmarketcap.com/v1/cryptocurrency/listings/latest'\n",
    "    parameters = {\n",
    "    'start':'1',\n",
    "    'limit':'5000',\n",
    "    'convert':'USD'\n",
    "    }\n",
    "    headers = {\n",
    "    'Accepts': 'application/json',\n",
    "    'X-CMC_PRO_API_KEY': '54ff4889-f067-439f-862d-2c0b05fbdae2',\n",
    "    }\n",
    "\n",
    "    session = Session()\n",
    "    session.headers.update(headers)\n",
    "\n",
    "    try:\n",
    "        response = session.get(url, params=parameters)\n",
    "        data = json.loads(response.text)\n",
    "        \n",
    "    except (ConnectionError, Timeout, TooManyRedirects) as e:\n",
    "        print(e)\n",
    "    \n",
    "    df=pd.json_normalize(data['data'])\n",
    "    df['timestamp']=pd.Timestamp.now()\n",
    "    df\n",
    "\n",
    "    #Writing data into the csv from dataframe\n",
    "    \n",
    "    if not os.path.isfile(r\"C:/Users/tuanminhaj/Data-Analyst-Projects/Automating-Crypto-Website-API-Pull-Using-Python/python scripts/API.csv\"):\n",
    "        df.to_csv(r\"C:/Users/tuanminhaj/Data-Analyst-Projects/Automating-Crypto-Website-API-Pull-Using-Python/python scripts/API.csv\",header='column_names')\n",
    "    else:\n",
    "        df.to_csv(r'C:/Users/tuanminhaj/Data-Analyst-Projects/Automating-Crypto-Website-API-Pull-Using-Python/python scripts/API.csv',mode='a',header=False)\n",
    "        \n",
    "\n",
    "\n",
    "\n",
    "\n",
    "\n"
   ]
  },
  {
   "cell_type": "code",
   "execution_count": null,
   "metadata": {},
   "outputs": [],
   "source": [
    "import os\n",
    "from time import time\n",
    "from time import sleep"
   ]
  },
  {
   "cell_type": "code",
   "execution_count": null,
   "metadata": {},
   "outputs": [],
   "source": [
    "#This will append data in every 10 seconds. 100 is the maximum credits per a day\n",
    "\n",
    "for i in range(100):\n",
    "    api_runner()\n",
    "    print(\"api runner competed successfully\")\n",
    "    sleep(10)\n",
    "exit()"
   ]
  },
  {
   "cell_type": "code",
   "execution_count": null,
   "metadata": {},
   "outputs": [],
   "source": [
    "df3=pd.read_csv(r'C:\\Users\\tuanminhaj\\Data-Analyst-Projects\\Automating-Crypto-Website-API-Pull-Using-Python\\python scripts\\API.csv')\n",
    "df3['timestamp'].head(10000)"
   ]
  },
  {
   "cell_type": "code",
   "execution_count": null,
   "metadata": {},
   "outputs": [],
   "source": []
  }
 ],
 "metadata": {
  "kernelspec": {
   "display_name": "Python 3",
   "language": "python",
   "name": "python3"
  },
  "language_info": {
   "codemirror_mode": {
    "name": "ipython",
    "version": 3
   },
   "file_extension": ".py",
   "mimetype": "text/x-python",
   "name": "python",
   "nbconvert_exporter": "python",
   "pygments_lexer": "ipython3",
   "version": "3.11.1"
  },
  "orig_nbformat": 4
 },
 "nbformat": 4,
 "nbformat_minor": 2
}
